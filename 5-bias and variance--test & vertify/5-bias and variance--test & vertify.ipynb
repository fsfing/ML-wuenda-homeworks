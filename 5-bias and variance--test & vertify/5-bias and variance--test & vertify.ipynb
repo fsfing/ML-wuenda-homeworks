{
 "cells": [
  {
   "cell_type": "markdown",
   "metadata": {},
   "source": [
    "# 1. Regularization Linear regression"
   ]
  },
  {
   "cell_type": "markdown",
   "metadata": {},
   "source": [
    "## 1.1 data--visualization"
   ]
  },
  {
   "cell_type": "code",
   "execution_count": 1,
   "metadata": {},
   "outputs": [],
   "source": [
    "import numpy as np\n",
    "import scipy.io as sio\n",
    "import scipy.optimize as opt\n",
    "import matplotlib.pyplot as plt\n",
    "import pandas as pd\n",
    "import seaborn as sns\n"
   ]
  },
  {
   "cell_type": "code",
   "execution_count": 2,
   "metadata": {},
   "outputs": [
    {
     "data": {
      "text/plain": [
       "((12,), (12,), (21,), (21,), (21,), (21,))"
      ]
     },
     "execution_count": 2,
     "metadata": {},
     "output_type": "execute_result"
    }
   ],
   "source": [
    "path = \"ex5data1.mat\"\n",
    "data = sio.loadmat(path)\n",
    "X,y,Xval,yval,Xtest,ytest = map(np.ravel,\n",
    "                               [data['X'], data['y'],\n",
    "                               data['Xval'],data['yval'],\n",
    "                               data['Xtest'],data['ytest']])\n",
    "X.shape, y.shape, Xval.shape, yval.shape, Xtest.shape,ytest.shape"
   ]
  },
  {
   "cell_type": "code",
   "execution_count": null,
   "metadata": {},
   "outputs": [],
   "source": []
  },
  {
   "cell_type": "code",
   "execution_count": 3,
   "metadata": {},
   "outputs": [
    {
     "data": {
      "image/png": "[encoded data removed]",
      "text/plain": [
       "<Figure size 864x576 with 1 Axes>"
      ]
     },
     "metadata": {
      "needs_background": "light"
     },
     "output_type": "display_data"
    }
   ],
   "source": [
    "fig, ax = plt.subplots(figsize=(12,8))\n",
    "ax.scatter(X,y)\n",
    "ax.set_xlabel(\"water_level\")\n",
    "ax.set_ylabel('flow')\n",
    "plt.show()\n"
   ]
  },
  {
   "cell_type": "code",
   "execution_count": 4,
   "metadata": {},
   "outputs": [],
   "source": [
    "X,Xval,Xtest = [np.insert(x.reshape(x.shape[0],1),0, np.ones(x.shape[0]),axis=1) for x in (X,Xval,Xtest)] \n"
   ]
  },
  {
   "cell_type": "code",
   "execution_count": 5,
   "metadata": {},
   "outputs": [],
   "source": [
    "def cost(theta, X, y):\n",
    "    \"\"\"\n",
    "    X: R(m*n), m records, n features\n",
    "    y: R(m)\n",
    "    theta : R(n), linear regression parameters\n",
    "    \"\"\"\n",
    "    m = X.shape[0]\n",
    "\n",
    "    inner = X @ theta - y  # R(m*1)\n",
    "\n",
    "    # 1*m @ m*1 = 1*1 in matrix multiplication\n",
    "    # but you know numpy didn't do transpose in 1d array, so here is just a\n",
    "    # vector inner product to itselves\n",
    "    square_sum = inner.T @ inner\n",
    "    cost = square_sum / (2 * m)\n",
    "\n",
    "    return cost"
   ]
  },
  {
   "cell_type": "code",
   "execution_count": 6,
   "metadata": {},
   "outputs": [],
   "source": [
    "def costReg(theta,X,y,reg=1):\n",
    "    m = X.shape[0]\n",
    "    regularized_term = (reg/(2*m)) * np.power(theta[1:], 2).sum()\n",
    "    \n",
    "    return cost(theta, X, y) + regularized_term"
   ]
  },
  {
   "cell_type": "code",
   "execution_count": 7,
   "metadata": {},
   "outputs": [
    {
     "data": {
      "text/plain": [
       "303.9931922202643"
      ]
     },
     "execution_count": 7,
     "metadata": {},
     "output_type": "execute_result"
    }
   ],
   "source": [
    "theta = np.ones(X.shape[1])\n",
    "costReg(theta,X,y,1)\n"
   ]
  },
  {
   "cell_type": "code",
   "execution_count": 8,
   "metadata": {},
   "outputs": [],
   "source": [
    "def gradient(theta,X,y):\n",
    "    m = X.shape[0]\n",
    "    \n",
    "    inner = X.T@(X@theta-y) \n",
    "    return inner/ m\n"
   ]
  },
  {
   "cell_type": "code",
   "execution_count": 9,
   "metadata": {},
   "outputs": [],
   "source": [
    "def gradientReg(theta,X,y,reg):\n",
    "    m = X.shape[0]\n",
    "    regularized_term = theta.copy() # same shape as theta\n",
    "    regularized_term[0] = 0\n",
    "    \n",
    "    regularized_term = (reg / m) * regularized_term\n",
    "\n",
    "    return gradient(theta, X, y) + regularized_term"
   ]
  },
  {
   "cell_type": "code",
   "execution_count": 10,
   "metadata": {},
   "outputs": [
    {
     "data": {
      "text/plain": [
       "array([-15.30301567, 598.25074417])"
      ]
     },
     "execution_count": 10,
     "metadata": {},
     "output_type": "execute_result"
    }
   ],
   "source": [
    "gradientReg(theta,X,y,1)\n"
   ]
  },
  {
   "cell_type": "markdown",
   "metadata": {},
   "source": [
    "# 1.4 拟合线性回归\n",
    "调用工具库找到最优解，在这个部分，我们令。因为我们现在训练的是2维的，所以正则化不会对这种低维的有很大的帮助。\n",
    "完成之后，将数据和拟合曲线可视化。"
   ]
  },
  {
   "cell_type": "code",
   "execution_count": 11,
   "metadata": {},
   "outputs": [
    {
     "data": {
      "text/plain": [
       "array([13.08790348,  0.36777923])"
      ]
     },
     "execution_count": 11,
     "metadata": {},
     "output_type": "execute_result"
    }
   ],
   "source": [
    "theta = np.ones(X.shape[1])\n",
    "final_theta = opt.minimize(fun=costReg, x0=theta, args=(X, y, 0), method='TNC', jac=gradientReg, options={'disp': True}).x\n",
    "final_theta"
   ]
  },
  {
   "cell_type": "code",
   "execution_count": 12,
   "metadata": {},
   "outputs": [
    {
     "data": {
      "image/png": "[encoded data removed]",
      "text/plain": [
       "<Figure size 864x576 with 1 Axes>"
      ]
     },
     "metadata": {
      "needs_background": "light"
     },
     "output_type": "display_data"
    }
   ],
   "source": [
    "b = final_theta[0] # intercept\n",
    "m = final_theta[1] # slope\n",
    "\n",
    "fig, ax = plt.subplots(figsize=(12,8))\n",
    "plt.scatter(X[:,1], y, c='r', label=\"Training data\")\n",
    "plt.plot(X[:, 1], X[:, 1]*m + b, c='b', label=\"Prediction\")\n",
    "ax.set_xlabel('water_level')\n",
    "ax.set_ylabel('flow')\n",
    "ax.legend()\n",
    "plt.show()\n"
   ]
  },
  {
   "cell_type": "markdown",
   "metadata": {},
   "source": [
    "# bias and variance\n",
    "偏差较大的模型会欠拟合，方差较大的模型会过拟合"
   ]
  },
  {
   "cell_type": "code",
   "execution_count": 13,
   "metadata": {},
   "outputs": [],
   "source": [
    "def linear_regression(X,y,l=1):\n",
    "    \"\"\"linear regression\n",
    "    args:\n",
    "        X： feature matrix,(m,n+1) with incercept x0 = 1\n",
    "        y: target vector (m,)\n",
    "        \n",
    "        l: lambda constant for regularization\n",
    "    \"\"\"\n",
    "    # init theta\n",
    "    theta = np.ones(X.shape[1])\n",
    "    \n",
    "    # train it\n",
    "    res = opt.minimize(fun=costReg,\n",
    "                      x0 = theta,\n",
    "                      args= (X,y,l),\n",
    "                      jac = gradientReg,\n",
    "                      options={'disp':True}\n",
    "                      )\n",
    "    return res"
   ]
  },
  {
   "cell_type": "code",
   "execution_count": 14,
   "metadata": {},
   "outputs": [],
   "source": [
    "training_cost, cv_cost = [], []\n"
   ]
  },
  {
   "cell_type": "code",
   "execution_count": 15,
   "metadata": {},
   "outputs": [
    {
     "name": "stdout",
     "output_type": "stream",
     "text": [
      "Optimization terminated successfully.\n",
      "         Current function value: 0.000000\n",
      "         Iterations: 2\n",
      "         Function evaluations: 3\n",
      "         Gradient evaluations: 3\n",
      "Optimization terminated successfully.\n",
      "         Current function value: 0.000000\n",
      "         Iterations: 10\n",
      "         Function evaluations: 11\n",
      "         Gradient evaluations: 11\n",
      "Optimization terminated successfully.\n",
      "         Current function value: 3.286595\n",
      "         Iterations: 3\n",
      "         Function evaluations: 5\n",
      "         Gradient evaluations: 5\n",
      "Optimization terminated successfully.\n",
      "         Current function value: 2.842678\n",
      "         Iterations: 3\n",
      "         Function evaluations: 5\n",
      "         Gradient evaluations: 5\n",
      "Optimization terminated successfully.\n",
      "         Current function value: 13.154049\n",
      "         Iterations: 5\n",
      "         Function evaluations: 6\n",
      "         Gradient evaluations: 6\n",
      "Optimization terminated successfully.\n",
      "         Current function value: 19.443963\n",
      "         Iterations: 5\n",
      "         Function evaluations: 6\n",
      "         Gradient evaluations: 6\n",
      "Optimization terminated successfully.\n",
      "         Current function value: 20.098522\n",
      "         Iterations: 4\n",
      "         Function evaluations: 5\n",
      "         Gradient evaluations: 5\n",
      "Optimization terminated successfully.\n",
      "         Current function value: 18.172859\n",
      "         Iterations: 5\n",
      "         Function evaluations: 6\n",
      "         Gradient evaluations: 6\n",
      "Optimization terminated successfully.\n",
      "         Current function value: 22.609405\n",
      "         Iterations: 5\n",
      "         Function evaluations: 6\n",
      "         Gradient evaluations: 6\n",
      "Optimization terminated successfully.\n",
      "         Current function value: 23.261462\n",
      "         Iterations: 6\n",
      "         Function evaluations: 7\n",
      "         Gradient evaluations: 7\n",
      "Optimization terminated successfully.\n",
      "         Current function value: 24.317250\n",
      "         Iterations: 5\n",
      "         Function evaluations: 6\n",
      "         Gradient evaluations: 6\n",
      "Optimization terminated successfully.\n",
      "         Current function value: 22.373906\n",
      "         Iterations: 5\n",
      "         Function evaluations: 6\n",
      "         Gradient evaluations: 6\n"
     ]
    }
   ],
   "source": [
    "m = X.shape[0]\n",
    "for i in range(1,m+1):\n",
    "    res = linear_regression(X[:i,:],y[:i],0)\n",
    "    \n",
    "    tc = costReg(res.x,X[:i,:],y[:i],0)\n",
    "    cv = costReg(res.x,Xval,yval,0)\n",
    "    \n",
    "    training_cost.append(tc)\n",
    "    cv_cost.append(cv)"
   ]
  },
  {
   "cell_type": "code",
   "execution_count": 16,
   "metadata": {},
   "outputs": [
    {
     "data": {
      "image/png": "[encoded data removed]",
      "text/plain": [
       "<Figure size 864x576 with 1 Axes>"
      ]
     },
     "metadata": {
      "needs_background": "light"
     },
     "output_type": "display_data"
    }
   ],
   "source": [
    "fig, ax = plt.subplots(figsize=(12,8))\n",
    "plt.plot(np.arange(1, m+1), training_cost, label='training cost')\n",
    "plt.plot(np.arange(1, m+1), cv_cost, label='cv cost')\n",
    "plt.legend()\n",
    "plt.show()\n"
   ]
  },
  {
   "cell_type": "markdown",
   "metadata": {},
   "source": [
    "# 多项式回归"
   ]
  },
  {
   "cell_type": "code",
   "execution_count": 17,
   "metadata": {},
   "outputs": [],
   "source": [
    "def poly_features(x, power, as_ndarray=False):\n",
    "    data = {'f{}'.format(i): np.power(x, i) for i in range(1,power+1)}\n",
    "    df = pd.DataFrame(data)\n",
    "    return df.values if as_ndarray else df\n"
   ]
  },
  {
   "cell_type": "code",
   "execution_count": 18,
   "metadata": {},
   "outputs": [],
   "source": [
    "data = sio.loadmat(path)\n",
    "X, y, Xval, yval, Xtest, ytest = map(np.ravel,[data['X'], data['y'], data['Xval'], data['yval'], data['Xtest'], data['ytest']])\n"
   ]
  },
  {
   "cell_type": "code",
   "execution_count": 19,
   "metadata": {},
   "outputs": [
    {
     "data": {
      "text/html": [
       "<div>\n",
       "<style scoped>\n",
       "    .dataframe tbody tr th:only-of-type {\n",
       "        vertical-align: middle;\n",
       "    }\n",
       "\n",
       "    .dataframe tbody tr th {\n",
       "        vertical-align: top;\n",
       "    }\n",
       "\n",
       "    .dataframe thead th {\n",
       "        text-align: right;\n",
       "    }\n",
       "</style>\n",
       "<table border=\"1\" class=\"dataframe\">\n",
       "  <thead>\n",
       "    <tr style=\"text-align: right;\">\n",
       "      <th></th>\n",
       "      <th>f1</th>\n",
       "      <th>f2</th>\n",
       "      <th>f3</th>\n",
       "    </tr>\n",
       "  </thead>\n",
       "  <tbody>\n",
       "    <tr>\n",
       "      <th>0</th>\n",
       "      <td>-15.936758</td>\n",
       "      <td>253.980260</td>\n",
       "      <td>-4047.621971</td>\n",
       "    </tr>\n",
       "    <tr>\n",
       "      <th>1</th>\n",
       "      <td>-29.152979</td>\n",
       "      <td>849.896197</td>\n",
       "      <td>-24777.006175</td>\n",
       "    </tr>\n",
       "    <tr>\n",
       "      <th>2</th>\n",
       "      <td>36.189549</td>\n",
       "      <td>1309.683430</td>\n",
       "      <td>47396.852168</td>\n",
       "    </tr>\n",
       "    <tr>\n",
       "      <th>3</th>\n",
       "      <td>37.492187</td>\n",
       "      <td>1405.664111</td>\n",
       "      <td>52701.422173</td>\n",
       "    </tr>\n",
       "    <tr>\n",
       "      <th>4</th>\n",
       "      <td>-48.058829</td>\n",
       "      <td>2309.651088</td>\n",
       "      <td>-110999.127750</td>\n",
       "    </tr>\n",
       "    <tr>\n",
       "      <th>5</th>\n",
       "      <td>-8.941458</td>\n",
       "      <td>79.949670</td>\n",
       "      <td>-714.866612</td>\n",
       "    </tr>\n",
       "    <tr>\n",
       "      <th>6</th>\n",
       "      <td>15.307793</td>\n",
       "      <td>234.328523</td>\n",
       "      <td>3587.052500</td>\n",
       "    </tr>\n",
       "    <tr>\n",
       "      <th>7</th>\n",
       "      <td>-34.706266</td>\n",
       "      <td>1204.524887</td>\n",
       "      <td>-41804.560890</td>\n",
       "    </tr>\n",
       "    <tr>\n",
       "      <th>8</th>\n",
       "      <td>1.389154</td>\n",
       "      <td>1.929750</td>\n",
       "      <td>2.680720</td>\n",
       "    </tr>\n",
       "    <tr>\n",
       "      <th>9</th>\n",
       "      <td>-44.383760</td>\n",
       "      <td>1969.918139</td>\n",
       "      <td>-87432.373590</td>\n",
       "    </tr>\n",
       "    <tr>\n",
       "      <th>10</th>\n",
       "      <td>7.013502</td>\n",
       "      <td>49.189211</td>\n",
       "      <td>344.988637</td>\n",
       "    </tr>\n",
       "    <tr>\n",
       "      <th>11</th>\n",
       "      <td>22.762749</td>\n",
       "      <td>518.142738</td>\n",
       "      <td>11794.353058</td>\n",
       "    </tr>\n",
       "  </tbody>\n",
       "</table>\n",
       "</div>"
      ],
      "text/plain": [
       "           f1           f2             f3\n",
       "0  -15.936758   253.980260   -4047.621971\n",
       "1  -29.152979   849.896197  -24777.006175\n",
       "2   36.189549  1309.683430   47396.852168\n",
       "3   37.492187  1405.664111   52701.422173\n",
       "4  -48.058829  2309.651088 -110999.127750\n",
       "5   -8.941458    79.949670    -714.866612\n",
       "6   15.307793   234.328523    3587.052500\n",
       "7  -34.706266  1204.524887  -41804.560890\n",
       "8    1.389154     1.929750       2.680720\n",
       "9  -44.383760  1969.918139  -87432.373590\n",
       "10   7.013502    49.189211     344.988637\n",
       "11  22.762749   518.142738   11794.353058"
      ]
     },
     "execution_count": 19,
     "metadata": {},
     "output_type": "execute_result"
    }
   ],
   "source": [
    "poly_features(X,power=3)\n"
   ]
  },
  {
   "cell_type": "code",
   "execution_count": 21,
   "metadata": {},
   "outputs": [],
   "source": [
    "def normalize_feature(df):\n",
    "    \"\"\"Applies function along input axis(default 0) of DataFrame.\"\"\"\n",
    "    return df.apply(lambda column: (column - column.mean()) / column.std())"
   ]
  },
  {
   "cell_type": "code",
   "execution_count": 24,
   "metadata": {},
   "outputs": [],
   "source": [
    "def prepare_poly_data(*args,power):\n",
    "    \"\"\"\n",
    "    args: keep feeding in X, Xval, or Xtest\n",
    "        will return in the same order\n",
    "    \"\"\"\n",
    "    def prepare(x):\n",
    "        df = poly_features(x, power=power)\n",
    "        \n",
    "        ndarr = normalize_feature(df).values\n",
    "        \n",
    "        return np.insert(ndarr,0,np.ones(ndarr.shape[0]),axis=1)\n",
    "        \n",
    "    return [prepare(x) for x in args]\n",
    "        \n",
    "        "
   ]
  },
  {
   "cell_type": "code",
   "execution_count": 25,
   "metadata": {},
   "outputs": [
    {
     "data": {
      "text/plain": [
       "array([[ 1.00000000e+00, -3.62140776e-01, -7.55086688e-01,\n",
       "         1.82225876e-01, -7.06189908e-01,  3.06617917e-01,\n",
       "        -5.90877673e-01,  3.44515797e-01, -5.08481165e-01],\n",
       "       [ 1.00000000e+00, -8.03204845e-01,  1.25825266e-03,\n",
       "        -2.47936991e-01, -3.27023420e-01,  9.33963187e-02,\n",
       "        -4.35817606e-01,  2.55416116e-01, -4.48912493e-01],\n",
       "       [ 1.00000000e+00,  1.37746700e+00,  5.84826715e-01,\n",
       "         1.24976856e+00,  2.45311974e-01,  9.78359696e-01,\n",
       "        -1.21556976e-02,  7.56568484e-01, -1.70352114e-01]])"
      ]
     },
     "execution_count": 25,
     "metadata": {},
     "output_type": "execute_result"
    }
   ],
   "source": [
    "X_poly, Xval_poly, Xtest_poly= prepare_poly_data(X, Xval, Xtest, power=8)\n",
    "X_poly[:3, :]\n"
   ]
  },
  {
   "cell_type": "markdown",
   "metadata": {},
   "source": [
    "## 画出拟合曲线"
   ]
  },
  {
   "cell_type": "code",
   "execution_count": 26,
   "metadata": {},
   "outputs": [],
   "source": [
    "def plot_learning_curve(X, Xinit, y, Xval, yval, l=0):\n",
    "    training_cost, cv_cost = [], []\n",
    "    m = X.shape[0]\n",
    "\n",
    "    for i in range(1, m + 1):\n",
    "        # regularization applies here for fitting parameters\n",
    "        res = linear_regression(X[:i, :], y[:i], l=l)\n",
    "\n",
    "        # remember, when you compute the cost here, you are computing\n",
    "        # non-regularized cost. Regularization is used to fit parameters only\n",
    "        tc = cost(res.x, X[:i, :], y[:i])\n",
    "        cv = cost(res.x, Xval, yval)\n",
    "\n",
    "        training_cost.append(tc)\n",
    "        cv_cost.append(cv)\n",
    "\n",
    "    fig, ax = plt.subplots(2,  1, figsize=(12, 12))\n",
    "    ax[0].plot(np.arange(1, m + 1), training_cost, label='training cost')\n",
    "    ax[0].plot(np.arange(1, m + 1), cv_cost, label='cv cost')\n",
    "    ax[0].legend()\n",
    "\n",
    "    fitx = np.linspace(-50, 50, 100) \n",
    "    fitxtmp = prepare_poly_data(fitx, power=8)\n",
    "    fity = np.dot(prepare_poly_data(fitx, power=8)[0], linear_regression(X, y, l).x.T)\n",
    "    \n",
    "    ax[1].plot(fitx, fity, c='r', label='fitcurve')\n",
    "    ax[1].scatter(Xinit, y, c='b', label='initial_Xy')\n",
    "    \n",
    "    ax[1].set_xlabel('water_level')\n",
    "    ax[1].set_ylabel('flow')"
   ]
  },
  {
   "cell_type": "code",
   "execution_count": 27,
   "metadata": {},
   "outputs": [
    {
     "name": "stdout",
     "output_type": "stream",
     "text": [
      "Optimization terminated successfully.\n",
      "         Current function value: 0.000000\n",
      "         Iterations: 2\n",
      "         Function evaluations: 3\n",
      "         Gradient evaluations: 3\n",
      "Optimization terminated successfully.\n",
      "         Current function value: 0.000000\n",
      "         Iterations: 6\n",
      "         Function evaluations: 7\n",
      "         Gradient evaluations: 7\n",
      "Optimization terminated successfully.\n",
      "         Current function value: 0.000000\n",
      "         Iterations: 7\n",
      "         Function evaluations: 9\n",
      "         Gradient evaluations: 9\n",
      "Optimization terminated successfully.\n",
      "         Current function value: 0.000000\n",
      "         Iterations: 19\n",
      "         Function evaluations: 21\n",
      "         Gradient evaluations: 21\n",
      "Optimization terminated successfully.\n",
      "         Current function value: 0.000000\n",
      "         Iterations: 24\n",
      "         Function evaluations: 25\n",
      "         Gradient evaluations: 25\n",
      "Optimization terminated successfully.\n",
      "         Current function value: 0.000000\n",
      "         Iterations: 36\n",
      "         Function evaluations: 37\n",
      "         Gradient evaluations: 37\n",
      "Optimization terminated successfully.\n",
      "         Current function value: 0.000000\n",
      "         Iterations: 47\n",
      "         Function evaluations: 48\n",
      "         Gradient evaluations: 48\n",
      "Optimization terminated successfully.\n",
      "         Current function value: 0.000000\n",
      "         Iterations: 64\n",
      "         Function evaluations: 65\n",
      "         Gradient evaluations: 65\n",
      "Optimization terminated successfully.\n",
      "         Current function value: 0.000000\n",
      "         Iterations: 86\n",
      "         Function evaluations: 88\n",
      "         Gradient evaluations: 88\n",
      "Optimization terminated successfully.\n",
      "         Current function value: 0.010818\n",
      "         Iterations: 81\n",
      "         Function evaluations: 82\n",
      "         Gradient evaluations: 82\n",
      "Optimization terminated successfully.\n",
      "         Current function value: 0.031219\n",
      "         Iterations: 79\n",
      "         Function evaluations: 81\n",
      "         Gradient evaluations: 81\n",
      "Optimization terminated successfully.\n",
      "         Current function value: 0.028893\n",
      "         Iterations: 74\n",
      "         Function evaluations: 77\n",
      "         Gradient evaluations: 77\n",
      "Optimization terminated successfully.\n",
      "         Current function value: 0.028893\n",
      "         Iterations: 74\n",
      "         Function evaluations: 77\n",
      "         Gradient evaluations: 77\n"
     ]
    },
    {
     "data": {
      "image/png": "[encoded data removed]",
      "text/plain": [
       "<Figure size 864x864 with 2 Axes>"
      ]
     },
     "metadata": {
      "needs_background": "light"
     },
     "output_type": "display_data"
    }
   ],
   "source": [
    "plot_learning_curve(X_poly, X, y, Xval_poly, yval, l=0)\n",
    "plt.show()"
   ]
  },
  {
   "cell_type": "code",
   "execution_count": 28,
   "metadata": {},
   "outputs": [
    {
     "name": "stdout",
     "output_type": "stream",
     "text": [
      "Optimization terminated successfully.\n",
      "         Current function value: 0.000000\n",
      "         Iterations: 7\n",
      "         Function evaluations: 8\n",
      "         Gradient evaluations: 8\n",
      "Optimization terminated successfully.\n",
      "         Current function value: 0.072694\n",
      "         Iterations: 10\n",
      "         Function evaluations: 11\n",
      "         Gradient evaluations: 11\n",
      "Optimization terminated successfully.\n",
      "         Current function value: 18.498793\n",
      "         Iterations: 15\n",
      "         Function evaluations: 16\n",
      "         Gradient evaluations: 16\n",
      "Optimization terminated successfully.\n",
      "         Current function value: 14.575864\n",
      "         Iterations: 15\n",
      "         Function evaluations: 17\n",
      "         Gradient evaluations: 17\n",
      "Optimization terminated successfully.\n",
      "         Current function value: 11.660715\n",
      "         Iterations: 16\n",
      "         Function evaluations: 17\n",
      "         Gradient evaluations: 17\n",
      "Optimization terminated successfully.\n",
      "         Current function value: 10.118820\n",
      "         Iterations: 17\n",
      "         Function evaluations: 18\n",
      "         Gradient evaluations: 18\n",
      "Optimization terminated successfully.\n",
      "         Current function value: 9.416317\n",
      "         Iterations: 17\n",
      "         Function evaluations: 18\n",
      "         Gradient evaluations: 18\n",
      "Optimization terminated successfully.\n",
      "         Current function value: 8.256224\n",
      "         Iterations: 17\n",
      "         Function evaluations: 18\n",
      "         Gradient evaluations: 18\n",
      "Optimization terminated successfully.\n",
      "         Current function value: 7.802076\n",
      "         Iterations: 18\n",
      "         Function evaluations: 19\n",
      "         Gradient evaluations: 19\n",
      "Optimization terminated successfully.\n",
      "         Current function value: 7.064398\n",
      "         Iterations: 21\n",
      "         Function evaluations: 22\n",
      "         Gradient evaluations: 22\n",
      "Optimization terminated successfully.\n",
      "         Current function value: 6.423784\n",
      "         Iterations: 21\n",
      "         Function evaluations: 22\n",
      "         Gradient evaluations: 22\n",
      "Optimization terminated successfully.\n",
      "         Current function value: 7.268148\n",
      "         Iterations: 20\n",
      "         Function evaluations: 21\n",
      "         Gradient evaluations: 21\n",
      "Optimization terminated successfully.\n",
      "         Current function value: 7.268148\n",
      "         Iterations: 20\n",
      "         Function evaluations: 21\n",
      "         Gradient evaluations: 21\n"
     ]
    },
    {
     "data": {
      "image/png": "[encoded data removed]",
      "text/plain": [
       "<Figure size 864x864 with 2 Axes>"
      ]
     },
     "metadata": {
      "needs_background": "light"
     },
     "output_type": "display_data"
    }
   ],
   "source": [
    "# lamda = 1\n",
    "plot_learning_curve(X_poly, X, y, Xval_poly, yval, l=1)\n",
    "plt.show()\n"
   ]
  },
  {
   "cell_type": "code",
   "execution_count": 29,
   "metadata": {},
   "outputs": [
    {
     "name": "stdout",
     "output_type": "stream",
     "text": [
      "Optimization terminated successfully.\n",
      "         Current function value: 0.000000\n",
      "         Iterations: 5\n",
      "         Function evaluations: 7\n",
      "         Gradient evaluations: 7\n",
      "Optimization terminated successfully.\n",
      "         Current function value: 0.114778\n",
      "         Iterations: 7\n",
      "         Function evaluations: 10\n",
      "         Gradient evaluations: 10\n",
      "Optimization terminated successfully.\n",
      "         Current function value: 112.782289\n",
      "         Iterations: 9\n",
      "         Function evaluations: 12\n",
      "         Gradient evaluations: 12\n",
      "Optimization terminated successfully.\n",
      "         Current function value: 132.620323\n",
      "         Iterations: 12\n",
      "         Function evaluations: 15\n",
      "         Gradient evaluations: 15\n",
      "Optimization terminated successfully.\n",
      "         Current function value: 117.349131\n",
      "         Iterations: 14\n",
      "         Function evaluations: 19\n",
      "         Gradient evaluations: 19\n",
      "Optimization terminated successfully.\n",
      "         Current function value: 109.921330\n",
      "         Iterations: 13\n",
      "         Function evaluations: 18\n",
      "         Gradient evaluations: 18\n",
      "Optimization terminated successfully.\n",
      "         Current function value: 94.278479\n",
      "         Iterations: 12\n",
      "         Function evaluations: 17\n",
      "         Gradient evaluations: 17\n",
      "Optimization terminated successfully.\n",
      "         Current function value: 87.319064\n",
      "         Iterations: 13\n",
      "         Function evaluations: 18\n",
      "         Gradient evaluations: 18\n",
      "Optimization terminated successfully.\n",
      "         Current function value: 81.084312\n",
      "         Iterations: 13\n",
      "         Function evaluations: 18\n",
      "         Gradient evaluations: 18\n",
      "Optimization terminated successfully.\n",
      "         Current function value: 73.915543\n",
      "         Iterations: 13\n",
      "         Function evaluations: 18\n",
      "         Gradient evaluations: 18\n",
      "Optimization terminated successfully.\n",
      "         Current function value: 67.658064\n",
      "         Iterations: 13\n",
      "         Function evaluations: 18\n",
      "         Gradient evaluations: 18\n",
      "Optimization terminated successfully.\n",
      "         Current function value: 66.733161\n",
      "         Iterations: 13\n",
      "         Function evaluations: 18\n",
      "         Gradient evaluations: 18\n",
      "Optimization terminated successfully.\n",
      "         Current function value: 66.733161\n",
      "         Iterations: 13\n",
      "         Function evaluations: 18\n",
      "         Gradient evaluations: 18\n"
     ]
    },
    {
     "data": {
      "image/png": "[encoded data removed]",
      "text/plain": [
       "<Figure size 864x864 with 2 Axes>"
      ]
     },
     "metadata": {
      "needs_background": "light"
     },
     "output_type": "display_data"
    }
   ],
   "source": [
    "# lamda=100\n",
    "plot_learning_curve(X_poly, X, y, Xval_poly, yval, l=100)\n",
    "plt.show()"
   ]
  },
  {
   "cell_type": "markdown",
   "metadata": {},
   "source": [
    "# 找到最佳的λ"
   ]
  },
  {
   "cell_type": "code",
   "execution_count": 30,
   "metadata": {},
   "outputs": [],
   "source": [
    "l_candidate = [0, 0.001, 0.003, 0.01, 0.03, 0.1, 0.3, 1, 3, 10]\n",
    "training_cost, cv_cost = [], []\n"
   ]
  },
  {
   "cell_type": "code",
   "execution_count": 31,
   "metadata": {},
   "outputs": [
    {
     "name": "stdout",
     "output_type": "stream",
     "text": [
      "Optimization terminated successfully.\n",
      "         Current function value: 0.028893\n",
      "         Iterations: 74\n",
      "         Function evaluations: 77\n",
      "         Gradient evaluations: 77\n",
      "Optimization terminated successfully.\n",
      "         Current function value: 0.174792\n",
      "         Iterations: 70\n",
      "         Function evaluations: 72\n",
      "         Gradient evaluations: 72\n",
      "Optimization terminated successfully.\n",
      "         Current function value: 0.249933\n",
      "         Iterations: 64\n",
      "         Function evaluations: 67\n",
      "         Gradient evaluations: 67\n",
      "Optimization terminated successfully.\n",
      "         Current function value: 0.385063\n",
      "         Iterations: 48\n",
      "         Function evaluations: 50\n",
      "         Gradient evaluations: 50\n",
      "Optimization terminated successfully.\n",
      "         Current function value: 0.669275\n",
      "         Iterations: 44\n",
      "         Function evaluations: 46\n",
      "         Gradient evaluations: 46\n",
      "Optimization terminated successfully.\n",
      "         Current function value: 1.443470\n",
      "         Iterations: 38\n",
      "         Function evaluations: 40\n",
      "         Gradient evaluations: 40\n",
      "Optimization terminated successfully.\n",
      "         Current function value: 3.101591\n",
      "         Iterations: 26\n",
      "         Function evaluations: 27\n",
      "         Gradient evaluations: 27\n",
      "Optimization terminated successfully.\n",
      "         Current function value: 7.268148\n",
      "         Iterations: 20\n",
      "         Function evaluations: 21\n",
      "         Gradient evaluations: 21\n",
      "Optimization terminated successfully.\n",
      "         Current function value: 15.867688\n",
      "         Iterations: 15\n",
      "         Function evaluations: 16\n",
      "         Gradient evaluations: 16\n",
      "Optimization terminated successfully.\n",
      "         Current function value: 33.372203\n",
      "         Iterations: 8\n",
      "         Function evaluations: 9\n",
      "         Gradient evaluations: 9\n"
     ]
    }
   ],
   "source": [
    "for l in l_candidate:\n",
    "    res = linear_regression(X_poly, y, l)\n",
    "    \n",
    "    tc = cost(res.x, X_poly, y)\n",
    "    cv = cost(res.x, Xval_poly, yval)\n",
    "    \n",
    "    training_cost.append(tc)\n",
    "    cv_cost.append(cv)\n",
    "    "
   ]
  },
  {
   "cell_type": "code",
   "execution_count": 32,
   "metadata": {},
   "outputs": [
    {
     "data": {
      "image/png": "[encoded data removed]",
      "text/plain": [
       "<Figure size 864x576 with 1 Axes>"
      ]
     },
     "metadata": {
      "needs_background": "light"
     },
     "output_type": "display_data"
    }
   ],
   "source": [
    "fig, ax = plt.subplots(figsize=(12,8))\n",
    "ax.plot(l_candidate, training_cost, label='training')\n",
    "ax.plot(l_candidate, cv_cost, label='cross validation')\n",
    "plt.legend()\n",
    "\n",
    "plt.xlabel('lambda')\n",
    "\n",
    "plt.ylabel('cost')\n",
    "plt.show()\n"
   ]
  },
  {
   "cell_type": "markdown",
   "metadata": {},
   "source": [
    "## 计算测试数据集上的误差"
   ]
  },
  {
   "cell_type": "code",
   "execution_count": 33,
   "metadata": {},
   "outputs": [
    {
     "name": "stdout",
     "output_type": "stream",
     "text": [
      "Optimization terminated successfully.\n",
      "         Current function value: 0.028893\n",
      "         Iterations: 74\n",
      "         Function evaluations: 77\n",
      "         Gradient evaluations: 77\n",
      "test cost(l=0) = 10.191332483783599\n",
      "Optimization terminated successfully.\n",
      "         Current function value: 0.174792\n",
      "         Iterations: 70\n",
      "         Function evaluations: 72\n",
      "         Gradient evaluations: 72\n",
      "test cost(l=0.001) = 11.033706027813363\n",
      "Optimization terminated successfully.\n",
      "         Current function value: 0.249933\n",
      "         Iterations: 64\n",
      "         Function evaluations: 67\n",
      "         Gradient evaluations: 67\n",
      "test cost(l=0.003) = 11.264623881870381\n",
      "Optimization terminated successfully.\n",
      "         Current function value: 0.385063\n",
      "         Iterations: 48\n",
      "         Function evaluations: 50\n",
      "         Gradient evaluations: 50\n",
      "test cost(l=0.01) = 10.880196381336068\n",
      "Optimization terminated successfully.\n",
      "         Current function value: 0.669275\n",
      "         Iterations: 44\n",
      "         Function evaluations: 46\n",
      "         Gradient evaluations: 46\n",
      "test cost(l=0.03) = 10.021933235222175\n",
      "Optimization terminated successfully.\n",
      "         Current function value: 1.443470\n",
      "         Iterations: 38\n",
      "         Function evaluations: 40\n",
      "         Gradient evaluations: 40\n",
      "test cost(l=0.1) = 8.632034819428549\n",
      "Optimization terminated successfully.\n",
      "         Current function value: 3.101591\n",
      "         Iterations: 26\n",
      "         Function evaluations: 27\n",
      "         Gradient evaluations: 27\n",
      "test cost(l=0.3) = 7.336555340510203\n",
      "Optimization terminated successfully.\n",
      "         Current function value: 7.268148\n",
      "         Iterations: 20\n",
      "         Function evaluations: 21\n",
      "         Gradient evaluations: 21\n",
      "test cost(l=1) = 7.466292805486908\n",
      "Optimization terminated successfully.\n",
      "         Current function value: 15.867688\n",
      "         Iterations: 15\n",
      "         Function evaluations: 16\n",
      "         Gradient evaluations: 16\n",
      "test cost(l=3) = 11.643947749918858\n",
      "Optimization terminated successfully.\n",
      "         Current function value: 33.372203\n",
      "         Iterations: 8\n",
      "         Function evaluations: 9\n",
      "         Gradient evaluations: 9\n",
      "test cost(l=10) = 27.715072456332905\n"
     ]
    }
   ],
   "source": [
    "# use test data to compute the cost\n",
    "for l in l_candidate:\n",
    "    theta = linear_regression(X_poly, y, l).x\n",
    "    print('test cost(l={}) = {}'.format(l, cost(theta, Xtest_poly, ytest)))"
   ]
  },
  {
   "cell_type": "markdown",
   "metadata": {},
   "source": [
    "### 调参后，λ = 0.3 ， 是最优选择，这个时候测试的代价最小"
   ]
  },
  {
   "cell_type": "code",
   "execution_count": null,
   "metadata": {},
   "outputs": [],
   "source": []
  }
 ],
 "metadata": {
  "kernelspec": {
   "display_name": "Python 3",
   "language": "python",
   "name": "python3"
  },
  "language_info": {
   "codemirror_mode": {
    "name": "ipython",
    "version": 3
   },
   "file_extension": ".py",
   "mimetype": "text/x-python",
   "name": "python",
   "nbconvert_exporter": "python",
   "pygments_lexer": "ipython3",
   "version": "3.7.6"
  }
 },
 "nbformat": 4,
 "nbformat_minor": 4
}
